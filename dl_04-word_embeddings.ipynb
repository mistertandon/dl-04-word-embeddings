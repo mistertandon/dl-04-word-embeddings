{
 "cells": [
  {
   "cell_type": "code",
   "execution_count": 2,
   "metadata": {},
   "outputs": [],
   "source": [
    "import os\n",
    "import shutil"
   ]
  },
  {
   "cell_type": "code",
   "execution_count": 3,
   "metadata": {},
   "outputs": [],
   "source": [
    "import tensorflow as tf"
   ]
  },
  {
   "cell_type": "code",
   "execution_count": 4,
   "metadata": {},
   "outputs": [],
   "source": [
    "from tensorflow.keras.models import Sequential\n",
    "from tensorflow.keras.layers import Activation, Dense, Embedding, GlobalAveragePooling1D"
   ]
  },
  {
   "cell_type": "code",
   "execution_count": 5,
   "metadata": {},
   "outputs": [
    {
     "data": {
      "text/plain": [
       "'.\\\\aclImdb_v1.tar.gz'"
      ]
     },
     "execution_count": 5,
     "metadata": {},
     "output_type": "execute_result"
    }
   ],
   "source": [
    "url = \"https://ai.stanford.edu/~amaas/data/sentiment/aclImdb_v1.tar.gz\"\n",
    "dataset = tf.keras.utils.get_file('aclImdb_v1.tar.gz', url, untar = True, cache_dir = '.', cache_subdir = '')\n",
    "dataset"
   ]
  },
  {
   "cell_type": "code",
   "execution_count": 7,
   "metadata": {},
   "outputs": [
    {
     "data": {
      "text/plain": [
       "['imdb.vocab', 'imdbEr.txt', 'README', 'test', 'train']"
      ]
     },
     "execution_count": 7,
     "metadata": {},
     "output_type": "execute_result"
    }
   ],
   "source": [
    "dataset_dir = os.path.join(os.path.dirname(dataset), 'aclImdb')\n",
    "os.listdir(dataset_dir)"
   ]
  },
  {
   "cell_type": "code",
   "execution_count": 8,
   "metadata": {},
   "outputs": [
    {
     "data": {
      "text/plain": [
       "'.\\\\aclImdb\\\\train'"
      ]
     },
     "execution_count": 8,
     "metadata": {},
     "output_type": "execute_result"
    }
   ],
   "source": [
    "train_dir = os.path.join(dataset_dir, 'train')\n",
    "train_dir"
   ]
  },
  {
   "cell_type": "code",
   "execution_count": 9,
   "metadata": {},
   "outputs": [
    {
     "data": {
      "text/plain": [
       "['labeledBow.feat',\n",
       " 'neg',\n",
       " 'pos',\n",
       " 'unsup',\n",
       " 'unsupBow.feat',\n",
       " 'urls_neg.txt',\n",
       " 'urls_pos.txt',\n",
       " 'urls_unsup.txt']"
      ]
     },
     "execution_count": 9,
     "metadata": {},
     "output_type": "execute_result"
    }
   ],
   "source": [
    "os.listdir(train_dir)"
   ]
  },
  {
   "cell_type": "code",
   "execution_count": 10,
   "metadata": {},
   "outputs": [
    {
     "data": {
      "text/plain": [
       "'.\\\\aclImdb\\\\train\\\\unsup'"
      ]
     },
     "execution_count": 10,
     "metadata": {},
     "output_type": "execute_result"
    }
   ],
   "source": [
    "remove_dir = os.path.join(train_dir, 'unsup')\n",
    "remove_dir"
   ]
  },
  {
   "cell_type": "code",
   "execution_count": 11,
   "metadata": {},
   "outputs": [],
   "source": [
    "if False:\n",
    "    shutil.rmtree(remove_dir)"
   ]
  },
  {
   "cell_type": "code",
   "execution_count": 12,
   "metadata": {},
   "outputs": [
    {
     "data": {
      "text/plain": [
       "['labeledBow.feat',\n",
       " 'neg',\n",
       " 'pos',\n",
       " 'unsup',\n",
       " 'unsupBow.feat',\n",
       " 'urls_neg.txt',\n",
       " 'urls_pos.txt',\n",
       " 'urls_unsup.txt']"
      ]
     },
     "execution_count": 12,
     "metadata": {},
     "output_type": "execute_result"
    }
   ],
   "source": [
    "os.listdir(train_dir)"
   ]
  },
  {
   "cell_type": "code",
   "execution_count": 13,
   "metadata": {},
   "outputs": [],
   "source": [
    "BATCH_SIZE = 64\n",
    "seed = 6"
   ]
  },
  {
   "cell_type": "code",
   "execution_count": 16,
   "metadata": {},
   "outputs": [
    {
     "name": "stdout",
     "output_type": "stream",
     "text": [
      "Found 75000 files belonging to 3 classes.\n",
      "Using 60000 files for training.\n"
     ]
    },
    {
     "data": {
      "text/plain": [
       "<BatchDataset shapes: ((None,), (None,)), types: (tf.string, tf.int32)>"
      ]
     },
     "execution_count": 16,
     "metadata": {},
     "output_type": "execute_result"
    }
   ],
   "source": [
    "train_ds = tf.keras.preprocessing.text_dataset_from_directory('aclImdb/train', validation_split = 0.2, subset = 'training', batch_size = BATCH_SIZE, seed = seed)\n",
    "train_ds"
   ]
  },
  {
   "cell_type": "code",
   "execution_count": 17,
   "metadata": {},
   "outputs": [
    {
     "name": "stdout",
     "output_type": "stream",
     "text": [
      "Found 25000 files belonging to 2 classes.\n",
      "Using 5000 files for validation.\n"
     ]
    },
    {
     "data": {
      "text/plain": [
       "<BatchDataset shapes: ((None,), (None,)), types: (tf.string, tf.int32)>"
      ]
     },
     "execution_count": 17,
     "metadata": {},
     "output_type": "execute_result"
    }
   ],
   "source": [
    "validation_ds = tf.keras.preprocessing.text_dataset_from_directory('aclImdb/test', validation_split = 0.2, subset = 'validation', batch_size = BATCH_SIZE, seed = seed)\n",
    "validation_ds"
   ]
  },
  {
   "cell_type": "code",
   "execution_count": 20,
   "metadata": {},
   "outputs": [
    {
     "name": "stdout",
     "output_type": "stream",
     "text": [
      "2 b'I watched this after seeing Lindsey Lohan in the better than average \"Freaky Friday\" and the brilliant \"Mean Girls\". my expectations were fairly high as i see Lindsey Lohan as the next big thing. But i was disappointed at this film OK, so it\\'s a Disney film, so i couldn\\'t expect a Mean Girls style of humour, or a Solid easy storyline, like that of Freaky Friday. but i at least expected a little more passion in the movie. The storyline was drab and very slim. there wasn\\'t much to go apart from the Lola (Lindsey Lohan) characters dream of being a starlet. The plot was so weak, that absolutely anything could of happen, which isn\\'t really a good thing. The acting, especially from Lindsey, was very amateurish. Linsey\\'s character was so OTT that it looked as though she had ignored the director and decided to improvise her role. Alison Pill\\'s role (Ella) was boring and lifeless, and i could see that she was upstaged by an over excited Lindsey. the sub characters were poorly written, especially the love interest Sam (Eli Marienthal), who is brilliant in \"Tucker\" and \"American Pie\", who is wasted and underused and also completely pointless to help push the story forwards. the only saving grace in characters was Adam Garcia as the drunken Rocker Stu. is utterly superb playing a drunken White stripes meets Keith Richards character. he lifts the film at one point. But He can\\'t save this Turkey of a film. I would recommend this film to Lindsey Lohan fan\\'s who like her music more than her acting and 10 year old girls.'\n",
      "2 b'Seriously! 30+ years later you still have to reference this show when discussing the Great American Sitcom. And, this is it. After all of these years, there is nothing quite Mary as Mary. No show has ever been better casted than this one. Each and every character was nailed to a tee by the actor/actress chosen for his/her role. Could Mary been played by anyone other than Mary Tyler Moore? Ted Baxter by anyone other than the late Ted Knight? Lou Grant! By anyone other than the oh-so-perfect Ed Asner? Murray? Gavin MacLeod pre-Love Boat! Rhoda!!!! Could anyone have nailed this better? Thank you Valerie Harper. No other faux-Jew could have matched you.'\n",
      "0 b\"Of course I was watching BG. I loved S1, I liked season 2, season 3 was OK, and loved the final one. Yay, there is a spin-off show! I didn't know about this at all, one of my friends told me about this. I was really excited.<br /><br />I watched the first 3 episodes... What a piece of rubbish! Teenage girl drama fest. There is no science fiction... well, hardly any. At the end of every episode we can catch a glimpse of a Cylon. That's all. Who cares this? Did they decide that the next show's target audience will be females under 18? Boring religious nonsense talking, moaning, bitching... and some more.<br /><br />It is just sad that there is nothing out there at the moment to watch. Stargate ruined, BG over...\"\n",
      "2 b'I know this TV movie as A Deadly Vision I remember it airing on ABC and I just watched it recently on Lifetime. \"Sex and the City\" star Kristin Davis stars as a waitress who has psychic visions of murders before they happen and as serial killings are developing she is asked by the police to help assist in the investigation. In the final 15 minutes the drama is high as Kristin is held captive by the serial killer, Kristin is taped to a chair you name it tape all the way around her arms, hands, legs, and yes the mouth to keep her quite. Never worry like many TV movies with happy endings she breaks free and puts a bullet to end the terror of the serial killer. Good movie to catch sometime on Lifetime especially if you like Kristin Davis it really does showcase her well.'\n",
      "2 b\"This is real children's stuff! The normal person (if one exists) isn't really going to know what the hell Pok\\xc3\\xa9mon is. You've got all these cute looking monsters with special powers and abilities and for some reason they're fighting each other. You see chances are that the normal person isn't really going to care. The film is based on the ever so popular TV series\\xc2\\x85 and that TV series is based on the ever so popular video game! And that usually means 'adults beware'!<br /><br /> The film is about Pok\\xc3\\xa9mon (of course), which translates as 'Pocket Monsters'. The main character is a Pok\\xc3\\xa9mon trainer by the name of Ash. He and his friends Brock, Misty and his loveably cute Pikachu accept a challenge to face off a rare evil Pok\\xc3\\xa9mon by the name of Mewtwo. Mewtwo is an experimental Pok\\xc3\\xa9mon that was genetically created by scientists. But just like Frankenstein, the experiment went berserk. So you see it's up to Ash and his friends to stop him. Now if none of this makes any sense to you then you might as well stop reading and forget about the film. It'll be probably be as complicated than an Alfred Hitchcock film!<br /><br /> Now to be honest, I actually quite like the TV series. It's enjoyable and funny. But the film is a very poor effort. There is a nice link between the TV series and the film that sheds some light on a few things, but it's only worth watching for that reason. Oh, and for the 'blink and you'll miss it scene' when a Tentacruel hugs Team Rocket! Also the animation isn't really anything ground breaking. There are a few noticeable touches but it isn't really that different from the TV show.<br /><br /> One great thing though was the villain Mewtwo! Now he was a proper bad guy. But this being a children's cartoon means you've got one of those violence is wrong messages and unfortunately there's also one of those dreamy endings. It's all highly predictable, simple and to put it straight, not very good.<br /><br /> Before the film there is the horrifically cute short titled 'Pikachu's Vacation'. It shows all of Ash's Pok\\xc3\\xa9mon basically having fun and are talking in their own way (as most Pok\\xc3\\xa9mon can only say their name). Subtitles might have been a benefit for the parents that were dragged to watch this. Why this precedes the film is quite a mystery, though I can only suggest that it's because the film itself is too short.<br /><br /> It may be awful but it's going to do very well and make a stack load of money mainly due to the incredible hype and a clever marketing campaign about collecting rare trading cards. In fact because of the success of this film, two sequels are on the way.<br /><br /> Kids are going to love it! Parents aren't going to understand it! The wise one is going to stay away from it!<br /><br />My Rating - 4 out of 10\"\n"
     ]
    }
   ],
   "source": [
    "for text_batch, label_batch in train_ds.take(1):\n",
    "    for i in range(5):\n",
    "        print(label_batch[i].numpy(), text_batch[i].numpy())\n",
    "        "
   ]
  },
  {
   "cell_type": "code",
   "execution_count": 22,
   "metadata": {},
   "outputs": [],
   "source": [
    "AUTO_TUNE = tf.data.experimental.AUTOTUNE"
   ]
  },
  {
   "cell_type": "code",
   "execution_count": 23,
   "metadata": {},
   "outputs": [],
   "source": [
    "train_ds = train_ds.cache().prefetch(buffer_size = AUTO_TUNE)\n",
    "validation_ds = validation_ds.cache().prefetch(buffer_size = AUTO_TUNE)"
   ]
  },
  {
   "cell_type": "code",
   "execution_count": 25,
   "metadata": {},
   "outputs": [],
   "source": [
    "embedding_layer = Embedding(1000, 5)"
   ]
  },
  {
   "cell_type": "code",
   "execution_count": 26,
   "metadata": {},
   "outputs": [
    {
     "data": {
      "text/plain": [
       "<tf.Tensor: shape=(3, 5), dtype=float32, numpy=\n",
       "array([[ 0.02641055, -0.02836857,  0.00481981,  0.02186115, -0.03276283],\n",
       "       [ 0.02527031,  0.01831198, -0.02533183,  0.00019568, -0.02313043],\n",
       "       [ 0.03835136,  0.02007956,  0.00871701, -0.02855083,  0.01030844]],\n",
       "      dtype=float32)>"
      ]
     },
     "execution_count": 26,
     "metadata": {},
     "output_type": "execute_result"
    }
   ],
   "source": [
    "result = embedding_layer(tf.constant([1, 2, 3]))\n",
    "result"
   ]
  },
  {
   "cell_type": "code",
   "execution_count": 29,
   "metadata": {},
   "outputs": [],
   "source": [
    "test_string = '!@rad\\\n",
    "gs'"
   ]
  },
  {
   "cell_type": "code",
   "execution_count": 30,
   "metadata": {},
   "outputs": [
    {
     "data": {
      "text/plain": [
       "<tf.Tensor: shape=(), dtype=string, numpy=b'!@radgs'>"
      ]
     },
     "execution_count": 30,
     "metadata": {},
     "output_type": "execute_result"
    }
   ],
   "source": [
    "lower = tf.strings.lower(test_string)\n",
    "lower"
   ]
  },
  {
   "cell_type": "code",
   "execution_count": 53,
   "metadata": {},
   "outputs": [
    {
     "data": {
      "text/plain": [
       "b'!@radgs'"
      ]
     },
     "execution_count": 53,
     "metadata": {},
     "output_type": "execute_result"
    }
   ],
   "source": [
    "html_stripped = tf.strings.regex_replace(lower, '<br />', ' ')\n",
    "html_stripped.numpy()"
   ]
  },
  {
   "cell_type": "code",
   "execution_count": 56,
   "metadata": {},
   "outputs": [],
   "source": [
    "import string\n",
    "import re"
   ]
  },
  {
   "cell_type": "code",
   "execution_count": 59,
   "metadata": {},
   "outputs": [
    {
     "data": {
      "text/plain": [
       "b'radgs'"
      ]
     },
     "execution_count": 59,
     "metadata": {},
     "output_type": "execute_result"
    }
   ],
   "source": [
    "final_str = tf.strings.regex_replace(html_stripped, '[%s]' % re.escape(string.punctuation), '')\n",
    "final_str.numpy()"
   ]
  },
  {
   "cell_type": "code",
   "execution_count": null,
   "metadata": {},
   "outputs": [],
   "source": []
  },
  {
   "cell_type": "code",
   "execution_count": null,
   "metadata": {},
   "outputs": [],
   "source": []
  },
  {
   "cell_type": "code",
   "execution_count": null,
   "metadata": {},
   "outputs": [],
   "source": []
  },
  {
   "cell_type": "code",
   "execution_count": null,
   "metadata": {},
   "outputs": [],
   "source": []
  }
 ],
 "metadata": {
  "kernelspec": {
   "display_name": "Python 3",
   "language": "python",
   "name": "python3"
  },
  "language_info": {
   "codemirror_mode": {
    "name": "ipython",
    "version": 3
   },
   "file_extension": ".py",
   "mimetype": "text/x-python",
   "name": "python",
   "nbconvert_exporter": "python",
   "pygments_lexer": "ipython3",
   "version": "3.8.0"
  }
 },
 "nbformat": 4,
 "nbformat_minor": 2
}
